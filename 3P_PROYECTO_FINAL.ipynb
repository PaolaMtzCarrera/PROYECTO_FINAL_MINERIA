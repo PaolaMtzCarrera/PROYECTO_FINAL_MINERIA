{
 "cells": [
  {
   "cell_type": "markdown",
   "metadata": {},
   "source": [
    "## 1. Selección del Dataset y variables"
   ]
  },
  {
   "cell_type": "code",
   "execution_count": 2,
   "metadata": {},
   "outputs": [],
   "source": [
    "# Importaciones\n",
    "import pandas as pd\n",
    "from sklearn.model_selection import train_test_split\n",
    "from sklearn.preprocessing import StandardScaler\n",
    "from sklearn.linear_model import LinearRegression\n",
    "from sklearn.metrics import  r2_score\n",
    "import matplotlib.pyplot as plt\n",
    "import numpy as np\n",
    "import psycopg2 as pa"
   ]
  },
  {
   "cell_type": "code",
   "execution_count": null,
   "metadata": {},
   "outputs": [],
   "source": [
    "# Cargar el archivo CSV a una base de datos (PostgreSQL)\n",
    "\n",
    "# Conexión a la base de datos\n",
    "conn = pa.connect(\n",
    "    host=\"localhost\",\n",
    "    database=\"final_project\",\n",
    "    user=\"postgres\",\n",
    "    password=\"root\"\n",
    ")"
   ]
  },
  {
   "cell_type": "code",
   "execution_count": 5,
   "metadata": {},
   "outputs": [],
   "source": [
    "# Cargar archivo CSV en un DataFrame\n",
    "df = pd.read_csv(r\"C:\\Users\\paola\\Downloads\\Data_Ventas_DiscosVinilo.csv\")"
   ]
  },
  {
   "cell_type": "code",
   "execution_count": null,
   "metadata": {},
   "outputs": [],
   "source": [
    "# Crear tabla a partir del DataFrame\n",
    "def crear_tabla_df(df, nombre_tabla, con):\n",
    "    # Mapear tipos de Datos\n",
    "    dtype_mapping = {\n",
    "        'object': 'TEXT',\n",
    "        'int64': 'INT',\n",
    "        'float64': 'FLOAT',\n",
    "        'bool': 'BOOLEAN',\n",
    "        'datetime64[ns]': 'TIMESTAMP',\n",
    "        'time': 'TIME'\n",
    "    }\n",
    "   \n",
    "    # Crear lista de columnas con su tipo de dato\n",
    "    columns = []\n",
    "    for col, dtype in zip(df.columns, df.dtypes):\n",
    "        pg_type = dtype_mapping.get(str(dtype), 'TEXT')\n",
    "        columns.append(f\"{col} {pg_type}\")\n",
    "\n",
    "    columns_sql = \",\".join(columns)\n",
    "    SLQuery = f\"CREATE TABLE IF NOT EXISTS {nombre_tabla} ({columns_sql});\"\n",
    "    with con.cursor() as cur:\n",
    "        cur.execute(SLQuery)\n",
    "        con.commit()\n",
    "\n",
    "# Llamada de la función para crear la tabla\n",
    "crear_tabla_df(df, 'tb_ventas_discosvinilo', conn)"
   ]
  },
  {
   "cell_type": "code",
   "execution_count": null,
   "metadata": {},
   "outputs": [],
   "source": [
    "# Insertar los datos en la tabla\n",
    "def insertar_datos(df, nombre_tabla, conn):\n",
    "    with conn.cursor() as cur:\n",
    "        # Eliminar datos existentes\n",
    "        cur.execute(f\"DELETE FROM {nombre_tabla}\")\n",
    "        \n",
    "        # Preparar consulta de inserción\n",
    "        columnas = ', '.join(df.columns)\n",
    "        valores = ', '.join([f\"%s\"] * len(df.columns))\n",
    "        SLQuery = f\"INSERT INTO {nombre_tabla} ({columnas}) VALUES ({valores})\"\n",
    "        \n",
    "        # Insertar datos\n",
    "        for _, fila in df.iterrows():\n",
    "            cur.execute(SLQuery, tuple(fila))\n",
    "\n",
    "        conn.commit()\n",
    "\n",
    "# Llamada de la función para insertar los datos\n",
    "insertar_datos(df, 'tb_ventas_discosvinilo', conn)\n"
   ]
  },
  {
   "cell_type": "markdown",
   "metadata": {},
   "source": [
    "## 2. Modelado de Datos en Esquema Estrella"
   ]
  },
  {
   "cell_type": "markdown",
   "metadata": {},
   "source": [
    "## 3. Limpieza y Transformación de Datos"
   ]
  },
  {
   "cell_type": "markdown",
   "metadata": {},
   "source": [
    "## 4.  Gráficos Exploratorios"
   ]
  },
  {
   "cell_type": "markdown",
   "metadata": {},
   "source": [
    "## 5. Análisis de Clustering con K-Means"
   ]
  },
  {
   "cell_type": "markdown",
   "metadata": {},
   "source": [
    "## 6. Modelos de  Regresión Lineal"
   ]
  }
 ],
 "metadata": {
  "kernelspec": {
   "display_name": "Python 3",
   "language": "python",
   "name": "python3"
  },
  "language_info": {
   "codemirror_mode": {
    "name": "ipython",
    "version": 3
   },
   "file_extension": ".py",
   "mimetype": "text/x-python",
   "name": "python",
   "nbconvert_exporter": "python",
   "pygments_lexer": "ipython3",
   "version": "3.12.2"
  }
 },
 "nbformat": 4,
 "nbformat_minor": 2
}
